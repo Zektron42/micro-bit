{
 "cells": [
  {
   "cell_type": "markdown",
   "metadata": {},
   "source": [
    "# Welcome to the Dark Art of Coding:\n",
    "## Introduction to Python\n",
    "Lists -- Dicts"
   ]
  },
  {
   "cell_type": "markdown",
   "metadata": {},
   "source": [
    "# Objectives\n",
    "---"
   ]
  },
  {
   "cell_type": "markdown",
   "metadata": {},
   "source": [
    "In todays class we'll discuss a few more objects that we can use when making Python code\n",
    "\n",
    "* Lists\n",
    "    * What are they good for?\n",
    "    * Creating lists\n",
    "    * Adding things to lists\n",
    "    * Removing things\n",
    "    * Grabbing single (or multiple) items\n",
    "* Dictionaries\n",
    "    * How can we use them?\n",
    "    * Creating dictionaries\n",
    "    * Adding things to dictionaries\n",
    "    * Removing things from dictionaries\n",
    "    * Grabbing single items from dictionaries"
   ]
  },
  {
   "cell_type": "code",
   "execution_count": null,
   "metadata": {
    "collapsed": true
   },
   "outputs": [],
   "source": []
  }
 ],
 "metadata": {
  "kernelspec": {
   "display_name": "Python 3",
   "language": "python",
   "name": "python3"
  },
  "language_info": {
   "codemirror_mode": {
    "name": "ipython",
    "version": 3
   },
   "file_extension": ".py",
   "mimetype": "text/x-python",
   "name": "python",
   "nbconvert_exporter": "python",
   "pygments_lexer": "ipython3",
   "version": "3.6.1"
  }
 },
 "nbformat": 4,
 "nbformat_minor": 2
}
