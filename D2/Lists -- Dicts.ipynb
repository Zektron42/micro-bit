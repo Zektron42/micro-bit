{
 "cells": [
  {
   "cell_type": "markdown",
   "metadata": {},
   "source": [
    "# Welcome to the Dark Art of Coding:\n",
    "## Introduction to Python\n",
    "Lists -- Dicts"
   ]
  },
  {
   "cell_type": "markdown",
   "metadata": {},
   "source": [
    "# Objectives\n",
    "---"
   ]
  },
  {
   "cell_type": "markdown",
   "metadata": {},
   "source": [
    "In todays class we'll discuss a few more objects that we can use when making Python code\n",
    "\n",
    "* Overview\n",
    "* Lists\n",
    "    * What are they\n",
    "    * Getting items from a list\n",
    "    * Removing items from a list\n",
    "    * List methods\n",
    "* Dictionaries\n",
    "    * What are they\n",
    "    * Getting things out\n",
    "    * Adding items to dictionaries\n",
    "    * Removing items from dictionaries\n",
    "    * Dictionary methods"
   ]
  },
  {
   "cell_type": "markdown",
   "metadata": {
    "collapsed": true
   },
   "source": [
    "# Overview\n",
    "---\n",
    "\n",
    "Today we'll be talking about two more extremely useful data types: a **list** and a **dictionary**. Remember a data type is any way to store any standard data"
   ]
  },
  {
   "cell_type": "markdown",
   "metadata": {},
   "source": [
    "# Lists\n",
    "---"
   ]
  },
  {
   "cell_type": "markdown",
   "metadata": {},
   "source": [
    "## What are they\n",
    "\n",
    "A list is a way of storing lots of DIFFERENT data in a series. A list can store strings, ints, floats, or even other lists. To make a list you have to surround your list elements with square brackets and seperate each element with commas:\n",
    "\n",
    "```python\n",
    "['first item', 'second item', 'third item']\n",
    "[1, 2, 3, 4, 5]\n",
    "['string', 5, 9.7]\n",
    "```\n",
    "\n",
    "Like I said you can have any items inside the list. Even multiple types of items."
   ]
  },
  {
   "cell_type": "markdown",
   "metadata": {},
   "source": [
    "## Getting items from a list\n",
    "\n",
    "Normally when using a list you don't want the ENTIRE list. You likely only want 1 or 2 items or a small subportion of the items. In order to get an item from a list you use the same square brackets to get them out as you did to put them in\n",
    "\n",
    "```python\n",
    "mList = ['first', 'second', 'third', 'fourth', 'fifth']\n",
    "mList[1]\n",
    "```\n",
    "\n",
    "If you remember from using indexing on strings when we asked for the ONE item it gave us what appeared to be the second. Python starts indexes at zero and it is no different for lists than it is for strings. Looking for the ONE item will give you the second and to get the first item you have to s=ask for the ZERO item\n",
    "\n",
    "```python\n",
    "['first', 'second', 'third', 'fourth', 'fifth']\n",
    "[ 0,       1,        2,       3,        4     ]\n",
    "```\n",
    "\n",
    "Just like strings if you want to get multiple items in a row you use slicing\n",
    "\n",
    "```python\n",
    "mList[1:3]\n",
    "```\n",
    "\n",
    "You have to remember that slicing goes from the first index up to but NOT INCLUDING the second index. Now if you want to get all the items from the beginning or from the end we just leave the index slot blank\n",
    "\n",
    "```python\n",
    "mList[:3]   # Everything from the beginning up to the third index\n",
    "mList[2:]   # Everything from the second index to the end\n",
    "mList[:]    # Getting every item from beginning to end\n",
    "```"
   ]
  },
  {
   "cell_type": "markdown",
   "metadata": {},
   "source": [
    "## Removing items from a list\n",
    "\n",
    "If you know the index to an item you want to remove from a list you can remove it quite simply by doing this:\n",
    "\n",
    "`del mList[3]`\n",
    "\n",
    "The `del` keyword deletes any object that comes after it. So if you havea variable you want to get rid of you can use `del` on that too and it will remove the value that your variable is pointing to"
   ]
  },
  {
   "cell_type": "markdown",
   "metadata": {},
   "source": [
    "## List methods\n",
    "\n",
    "Every data type has methods. A method is a special function you can do to a SINGLE version of an item. You use methods with a dot after an item and then you call your method with some parentheses\n",
    "\n",
    "```python\n",
    "mList.append('sixth')  # If the method needs items to give it you put the items inside the parentheses\n",
    "```\n",
    "\n",
    "There are many methds available to lists including:\n",
    "\n",
    "* `.append(item)`\n",
    "    * Adds the item inside to the end of the list\n",
    "* `.extend(list)`\n",
    "    * Adds all the items from inside the list to the end of the original list\n",
    "* `.sort()`\n",
    "    * Sorts all of the items inside the list to be in proper\\* order\n",
    "* `.reverse()`\n",
    "    * Reverses the current order of the list\n",
    "* `.count(item)`\n",
    "    * Returs the count of how many times the given item shows up in the list\n",
    "* `.pop(index)`\n",
    "    * Removes the item at that index and returns it\n",
    "* and more!\n",
    "\n",
    "There are normally three types of methods. Ones that do things IN PLACE (they modify the object itself), ones that do things OUT OF PLACE (or they return a NEW version of the object that has been changed), or ones that return some data ABOUT an object. Most of these list methods do things IN PLACE or they return something ABOUT themselves"
   ]
  },
  {
   "cell_type": "markdown",
   "metadata": {},
   "source": [
    "# Dictionaries\n",
    "---"
   ]
  },
  {
   "cell_type": "markdown",
   "metadata": {},
   "source": [
    "## What are they\n",
    "\n",
    "A dictionary is another way for storing a collection of data but this time instead of using indexes for labeling each piece of data inside we use keys. Each key inside of a dictionary is unique and holds a single value. Normally a key is a string while the value is anything you want it to be. Just like lists you surround all the elements but this time with curly braces. You still seperate each element with a comma but you also now have to seperate each key, value pair with a colon\n",
    "\n",
    "```python\n",
    "mDict = {'fKey': 'fValue', 'sKey': 'sValue', 'tKey': 'tValue'}\n",
    "```"
   ]
  },
  {
   "cell_type": "markdown",
   "metadata": {},
   "source": [
    "## Getting things out\n",
    "\n",
    "Now before with lists and strings we had to worry about indexing and making sure we started counting at zero. With dictionaries it's a little different. Dictionaries are actually un-ordered meaning if you want to get a single item instead of putting the index into the square brackets you use the key and the dictionary will give you tha value\n",
    "\n",
    "`mDict['fKey']`<br>\n",
    "`'fValue'`\n",
    "\n",
    "One of the things with dictionaries is since they are un-ordered we actually CAN'T get multiple things at a time"
   ]
  },
  {
   "cell_type": "markdown",
   "metadata": {},
   "source": [
    "## Adding items to dictionaries\n",
    "\n",
    "Normally when you create a dictionary or any collection of data it's not the complete set and typically you want to add things. To add things to a dictionary you simply do variable assignment to a new key with whatever variable you want\n",
    "\n",
    "`mDict['lKey'] = 'lValue'`\n",
    "\n",
    "The `.setdefault()` method is very helpful\n",
    "\n",
    "`mDict.setdefault('defKey', 'default')`\n",
    "\n",
    "What it does is it returns EITHER the value from the key which is the first argument OR the \"default\" value you set as the second argument AND assigns a new key to that default value. So for example. Let's say you have a dictionary that looks like this:\n",
    "\n",
    "`char = {'name': 'Stephen', 'gold': 500, 'weapon': 'steel sword', 'armor': 'iron platemail'}`\n",
    "\n",
    "And you need to get the level of your character. You don't know if your character's level has been set yet. So you use `.setdefault()` to grab his level if it exists OR assign it to 0 and still get zero if it doesn't\n",
    "\n",
    "`char.setdefault('level', 0)`"
   ]
  },
  {
   "cell_type": "markdown",
   "metadata": {},
   "source": [
    "## Removing items from dictionaries\n",
    "\n",
    "Removing an item from a dictionary is the same as removing from a list or variable\n",
    "\n",
    "`del char['armor']`\n",
    "\n",
    "This will remove the key: value pair of 'armor'"
   ]
  },
  {
   "cell_type": "markdown",
   "metadata": {
    "collapsed": true
   },
   "source": [
    "## Dictionary methods\n",
    "\n",
    "Dictionaries have a bunch of methods you can use to do things with them\n",
    "\n",
    "* `.get(key, default)`\n",
    "    * Attempts to get the value for the key and if it cannot find the key it simply returns the default\n",
    "* `.setdefault(key, default)`\n",
    "    * Like `.get()` but actually sets the key to the default value if key is missing\n",
    "* `.keys()`\n",
    "    * Returns a list of all the keys in the dictionary\n",
    "* `.values()`\n",
    "    * Similar to `.keys()` but does the values of the dictionary instead\n",
    "* `.items()`\n",
    "    * Similar to `.keys()` and `.values()` but returns a mini list of both the key AND the value\n",
    "\n"
   ]
  },
  {
   "cell_type": "markdown",
   "metadata": {},
   "source": []
  }
 ],
 "metadata": {
  "kernelspec": {
   "display_name": "Python 3",
   "language": "python",
   "name": "python3"
  },
  "language_info": {
   "codemirror_mode": {
    "name": "ipython",
    "version": 3
   },
   "file_extension": ".py",
   "mimetype": "text/x-python",
   "name": "python",
   "nbconvert_exporter": "python",
   "pygments_lexer": "ipython3",
   "version": "3.6.1"
  }
 },
 "nbformat": 4,
 "nbformat_minor": 2
}
