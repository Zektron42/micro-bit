{
 "cells": [
  {
   "cell_type": "markdown",
   "metadata": {},
   "source": [
    "# Welcome to the Dark Art of Coding:\n",
    "## Introduction to Python\n",
    "Micro:Bit Onboard Basics"
   ]
  },
  {
   "cell_type": "markdown",
   "metadata": {},
   "source": [
    "# Objectives\n",
    "---"
   ]
  },
  {
   "cell_type": "markdown",
   "metadata": {},
   "source": [
    "Today's lesson we'll be covering a bunch of the things specific to the Micro:Bit itself\n",
    "\n",
    "* Overview\n",
    "* Basic Micro:Bit functions\n",
    "    * Display functions\n",
    "    * An event loop\n",
    "    * Button functions\n",
    "    * `sleep()`\n",
    "    * Pin\n",
    "    * Music?"
   ]
  },
  {
   "cell_type": "markdown",
   "metadata": {},
   "source": [
    "# Overview\n",
    "---\n",
    "\n",
    "Today we're going to finally start doing some real Micro:Bit work. We're going to talk about how to use the front LED display as well as read the buttons. We'll also talk about adding delays to your programs and talk to the pins. We'll also talk about how to make simple music"
   ]
  },
  {
   "cell_type": "markdown",
   "metadata": {},
   "source": [
    "# Basic Micro:Bit functions\n",
    "---"
   ]
  },
  {
   "cell_type": "markdown",
   "metadata": {},
   "source": [
    "## Display\n",
    "\n",
    "We're going to be talking about how to control the display in three different ways: using text, `.set_pixel()`, and using an Image"
   ]
  },
  {
   "cell_type": "markdown",
   "metadata": {},
   "source": [
    "### Text\n",
    "\n",
    "We've already talked about how to scroll and show text on the front display\n",
    "\n",
    "```python\n",
    "display.show('my sentence goes here')\n",
    "display.scroll('and we scroll this sentence here')\n",
    "```\n",
    "\n",
    "But we haven't shown you some of the extra things you can do with it. When using `display.scroll()` we can set a few extra parameters to make our programs run a little smoother. If we use mu we can figure out what some of those parameters are and what they do. Just type out `display.scroll(` and once you're inside the parentheses it will show you exactly what parameters you can use\n",
    "\n",
    "* string: This is the string you give it to scroll across display\n",
    "* delay: We give a number here to say how quickly the words should scroll across the display. It says how many milliseconds it takes for the next letter to appear\n",
    "* wait: A True or False used to say whether or not the program should wait until it's finished scrolling or not to move on\n",
    "* loop: Another True or False to decide whether or not to loop the scroll forever. Useful for an ending line to display\n",
    "* monospace: Some of the letters aren't a full 5 pixels wide so when it scrolls it doesn't always use the extra pixel or two. Monospace makes the Micro:Bit use those extra pixels as empty space to keep things aligned\n",
    "\n",
    "Similarly `display.show()` has some parameters that it uses to make it easier to clean up your display\n",
    "\n",
    "* x: This is what will be shown on the display. You can use a string or an Image or a list of Images\n",
    "* delay: This says how many milliseconds it will wait before showing the next Image or letter in a list OR if it's just one Image or letter than it says how long that Image or letter is shown to the display\n",
    "* wait: A True or False to say whether or not to wait until the Micro:Bit is finished displaying to move on to the rest of the program\n",
    "* loop: A True or False on whether or not to loop the string or list of Images\n",
    "* clear: A True or False on whether or not to clear away the display after the delay"
   ]
  },
  {
   "cell_type": "markdown",
   "metadata": {},
   "source": [
    "### `.set_pixel()`\n",
    "\n",
    "Sometimes you want to only control one pixel at a time. The `.setpixel()` function will set a single pixels brightness with three numbers: the column (0 to 4), the row(0 to 4), and the brightness (0 to 9). So say if you wanted to turn the center pixel to max brightness you would do this:\n",
    "\n",
    "```python\n",
    "display.set_pixel(2, 2, 9)\n",
    "```\n",
    "\n",
    "If we want to set the center top pixel to half brightness we would use this command:\n",
    "\n",
    "```python\n",
    "display.set_pixel(2, 0, 5)\n",
    "```"
   ]
  },
  {
   "cell_type": "markdown",
   "metadata": {},
   "source": [
    "### Using an Image\n",
    "\n",
    "In the microbit module there is a subsection called Image. This is lets us create a brightness map for each of the LEDs on the front. Let's take a look at a few Images already made for us to try out. Type out `Image.` then press tab. All of those uppercase words are variables that have little Images pre made for us to try out. Go ahead and put them into the `display.show()` function and see what happens.\n",
    "\n",
    "Not only can we use the pre made Images but we can make our own. Like this:\n",
    "\n",
    "```python\n",
    "Image('00000:22222:44444:66666:99999')\n",
    "```\n",
    "\n",
    "The way this works is the Image function takes a single string. When you give it a string you have five numbers from 0 to 9. Each one represents a pixel on the first row and the 0 to 9 represents how bright that pixel (0 being off and 9 being as bright as it can be). Once you use all five pixels you put a colon in the string to represent the end of a row. Once you do it for all five rows you have an Image. One of the things you can do to make it a little easier to picture what it looks like is this:\n",
    "\n",
    "```python\n",
    "Image('00000:'\n",
    "      '22222:'\n",
    "      '44444:'\n",
    "      '66666:'\n",
    "      '99999')\n",
    "```\n",
    "\n",
    "When you put strings next to each other (or inside of parentheses on seperate lines) Python automatically puts them together. This way we can lay it out in a way that we can see what it should look like once we send it to `display.show()`"
   ]
  },
  {
   "cell_type": "markdown",
   "metadata": {},
   "source": [
    "## Event loops\n",
    "\n",
    "Normally with programs like this we want to continuously check for things to have happened so it can react accordingly. This is called an event loop. In a Micro:Bit this is typically achieved with a while loop and a bunch of if statements for events as well as something we have our event loop do once each time (typically this is updating the display)\n",
    "\n",
    "```python\n",
    "while True:\n",
    "    if button_a.was_pressed():\n",
    "        display.show('X', delay=500, clear=True)\n",
    "    \n",
    "    display.show('O')\n",
    "```\n",
    "\n",
    "This is an example of an event loop. It checked for an event (is the a button pressed) and did something if the event came out True. It also did a standard display update for all the other times when nothing happens.\n",
    "\n",
    "Now this is a rather simple event loop. But it is the groundwork for more complex things"
   ]
  }
 ],
 "metadata": {
  "kernelspec": {
   "display_name": "Python 3",
   "language": "python",
   "name": "python3"
  },
  "language_info": {
   "codemirror_mode": {
    "name": "ipython",
    "version": 3
   },
   "file_extension": ".py",
   "mimetype": "text/x-python",
   "name": "python",
   "nbconvert_exporter": "python",
   "pygments_lexer": "ipython3",
   "version": "3.6.1"
  }
 },
 "nbformat": 4,
 "nbformat_minor": 2
}
