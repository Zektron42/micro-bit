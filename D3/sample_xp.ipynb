{
 "cells": [
  {
   "cell_type": "markdown",
   "metadata": {},
   "source": [
    "## Create a function with the following characteristics:\n",
    "\n",
    "1. Name the function: `myprinter`\n",
    "1. For this exercise, don't worry about accepting arguments, just include your name and age in the body of the function\n",
    "    1. Have the function print your name \n",
    "    1. Have the function print your age\n",
    "1. Test the function, by calling it"
   ]
  },
  {
   "cell_type": "markdown",
   "metadata": {},
   "source": [
    "## Create a function with the following characteristics:\n",
    "\n",
    "1. Name the function: `mysport`\n",
    "1. Have the function accept one argument: `fav_sport`\n",
    "1. Have the function print your favorite sport\n",
    "1. Test the function, by calling it, with an argument"
   ]
  },
  {
   "cell_type": "markdown",
   "metadata": {},
   "source": [
    "## Create a function with the following characteristics:\n",
    "\n",
    "1. Name the function: `myfavorites`\n",
    "1. Have the function accept two arguments: `fav_food` & `fav_animal`\n",
    "    1. Have the function print your favorite food\n",
    "    1. Have the function print your favorite animal\n",
    "1. Test the function, by calling it, with two arguments"
   ]
  },
  {
   "cell_type": "markdown",
   "metadata": {},
   "source": [
    "## Create a function with the following characteristics:\n",
    "\n",
    "1. Name the function: `defaultfavorites`\n",
    "1. Have the function accept two arguments: `fav_food` & `fav_animal`\n",
    "1. Assign a default value for favorite animal of 'raccoon'\n",
    "1. Have the function print your favorite food and your favorite animal\n",
    "1. Test the function, by calling it, both with and without an argument for the favorite animal"
   ]
  },
  {
   "cell_type": "code",
   "execution_count": null,
   "metadata": {
    "collapsed": true
   },
   "outputs": [],
   "source": []
  }
 ],
 "metadata": {
  "anaconda-cloud": {},
  "kernelspec": {
   "display_name": "Python [conda env:misc]",
   "language": "python",
   "name": "conda-env-misc-py"
  },
  "language_info": {
   "codemirror_mode": {
    "name": "ipython",
    "version": 3
   },
   "file_extension": ".py",
   "mimetype": "text/x-python",
   "name": "python",
   "nbconvert_exporter": "python",
   "pygments_lexer": "ipython3",
   "version": "3.5.3"
  }
 },
 "nbformat": 4,
 "nbformat_minor": 1
}
