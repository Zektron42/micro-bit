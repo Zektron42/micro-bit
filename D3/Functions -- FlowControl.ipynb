{
 "cells": [
  {
   "cell_type": "markdown",
   "metadata": {},
   "source": [
    "# Welcome to the Dark Art of Coding:\n",
    "## Introduction to Python\n",
    "Functions -- Flow Control\n",
    "\n",
    "<img src='../RESOURCES/dark_art_logo.600px.png' height='250' width='300' style=\"float:right\">"
   ]
  },
  {
   "cell_type": "markdown",
   "metadata": {},
   "source": [
    "# Objectives\n",
    "---"
   ]
  },
  {
   "cell_type": "markdown",
   "metadata": {},
   "source": [
    "Today we'll discuss **functions** and **flow control**. Functions are defined snippets of code we can run over and over again and flow control allows us to make decisions about what to do.\n",
    "\n",
    "* What is a function?\n",
    "* Built-in functions\n",
    "* Function syntax\n",
    "* Defining your own functions\n",
    "    * Actions inside of functions\n",
    "    * Get data FOR your function\n",
    "    * Get data FROM your function\n",
    "* Flow control\n",
    "    * `if`, `elif` and `else` statements\n",
    "    * `for` loops\n",
    "    * `while` loops"
   ]
  },
  {
   "cell_type": "markdown",
   "metadata": {
    "collapsed": true
   },
   "source": [
    "# What is a function?\n",
    "---"
   ]
  },
  {
   "cell_type": "markdown",
   "metadata": {},
   "source": [
    "In Python, functions:\n",
    "\n",
    "* have a name\n",
    "* run a set of commands\n",
    "* can be built-in \n",
    "* can be created by you\n"
   ]
  },
  {
   "cell_type": "markdown",
   "metadata": {},
   "source": [
    "# Built-in functions \n",
    "---"
   ]
  },
  {
   "cell_type": "markdown",
   "metadata": {},
   "source": [
    "Python comes with many built-in functions that are already written for you. Microbits also come with a number of built-in functions.\n",
    "\n",
    "Some of **Python built-in** functions include:\n",
    "\n",
    "\n",
    "* `len()`\n",
    "* `max()`\n",
    "* `min()`\n",
    "* `dir()`\n",
    "* `int()`\n",
    "* `str()`\n",
    "* `float()`\n",
    "* `help()`\n",
    "* `print()`\n",
    "* `range()`\n",
    "* `sorted()`\n",
    "* `sum()`\n",
    "\n",
    "Some of the **microbit built-in** functions include:\n",
    "* `sleep()`\n",
    "* `running_time()`\n",
    "* `temperature()`"
   ]
  },
  {
   "cell_type": "markdown",
   "metadata": {},
   "source": [
    "# Function syntax\n",
    "---"
   ]
  },
  {
   "cell_type": "markdown",
   "metadata": {},
   "source": [
    "# Defining your own functions\n",
    "---"
   ]
  },
  {
   "cell_type": "markdown",
   "metadata": {},
   "source": [
    "If you want to create a function of your own, there are several required parts and several optional parts\n",
    "\n",
    "**Required**\n",
    "\n",
    "* `def` keyword\n",
    "* name\n",
    "* `colon (:)`\n",
    "* body (or code block)\n",
    "\n",
    "\n",
    "**Optional**\n",
    "* `arguments`\n",
    "* `return` statement\n"
   ]
  },
  {
   "cell_type": "markdown",
   "metadata": {},
   "source": [
    "Let's start with creating a simple function to help us with some math.\n",
    "\n",
    "To create this function:\n",
    "\n",
    "\n",
    "```python\n",
    "def double():\n",
    "    print(5 * 2)\n",
    "```    \n",
    "\n",
    "* we used the `def` keyword.\n",
    "* we chose the name **double**\n",
    "* we used the colon\n",
    "* we indented the body (or code block)\n",
    "\n"
   ]
  },
  {
   "cell_type": "markdown",
   "metadata": {},
   "source": [
    "To run the function, we need to call it, by using the name and adding a pair of parenthesis to the end of the name:\n",
    "\n",
    "```python\n",
    ">>> double()\n",
    "10\n",
    "```    "
   ]
  },
  {
   "cell_type": "markdown",
   "metadata": {},
   "source": [
    "Let's make another:\n",
    "\n",
    "```python\n",
    "def triple():\n",
    "    print(5 * 3)\n",
    "```    "
   ]
  },
  {
   "cell_type": "markdown",
   "metadata": {},
   "source": [
    "And let's call it.\n",
    "\n",
    "```python\n",
    ">>> triple()\n",
    "15\n",
    "```"
   ]
  },
  {
   "cell_type": "markdown",
   "metadata": {},
   "source": [
    "## Actions inside of functions\n",
    "---"
   ]
  },
  {
   "cell_type": "markdown",
   "metadata": {},
   "source": [
    "The body of the function allows you to create a sequence of steps that can be run whenever needed, without having to retype them. You can simply call the name of the function. This allows you to run multiple lines of code using only a single line."
   ]
  },
  {
   "cell_type": "markdown",
   "metadata": {},
   "source": [
    "Let's look at an example:\n",
    "\n",
    "```python\n",
    "def square_perimeter():\n",
    "    side = 10\n",
    "    perimeter = side * 4\n",
    "    print(perimeter)\n",
    "```"
   ]
  },
  {
   "cell_type": "markdown",
   "metadata": {},
   "source": [
    "If we run this function:    \n",
    "\n",
    "```python\n",
    ">>> square_perimeter()\n",
    "40    \n",
    "```"
   ]
  },
  {
   "cell_type": "markdown",
   "metadata": {},
   "source": [
    "Let's look at another example:\n",
    "\n",
    "```python\n",
    "def triangle_perimeter():\n",
    "    side = 10\n",
    "    perimeter = side * 3\n",
    "    print(perimeter)\n",
    "```"
   ]
  },
  {
   "cell_type": "markdown",
   "metadata": {},
   "source": [
    "If we run this function:    \n",
    "\n",
    "```python\n",
    ">>> triangle_perimeter()\n",
    "30    \n",
    "```"
   ]
  },
  {
   "cell_type": "markdown",
   "metadata": {},
   "source": [
    "## Get data **for** your function\n",
    "---"
   ]
  },
  {
   "cell_type": "markdown",
   "metadata": {},
   "source": [
    "The **\"problem\"** with the previous functions is that they were very limited in what they could do. There was no way to conveniently change the size of the square OR the triangle to calculate for larger or smaller shapes. \n",
    "\n",
    "Similarly, wouldn't it be nice to have a function that allowed you to calculate the perimeter of a shape regardless of how many sides the shape had? We probably don't want to create ten OR 15 (or more) functions to allow us to calculate for shapes with different numbers of sides."
   ]
  },
  {
   "cell_type": "markdown",
   "metadata": {},
   "source": [
    "### Using arguments"
   ]
  },
  {
   "cell_type": "markdown",
   "metadata": {},
   "source": [
    "Let's define a function that takes an **argument** that points to the length of a side of a square.\n",
    "\n",
    "```python\n",
    "def sq_perimeter_with_size(side):\n",
    "    perimeter = side * 4\n",
    "    print(perimeter)\n",
    "```    \n",
    "\n",
    "Here, `side` is given, within the parenthesis as an **argument** that the function can now use to help solve problems. \n",
    "\n",
    "To calculate the perimeter, we use the value of `side` multiplied by `4`. "
   ]
  },
  {
   "cell_type": "markdown",
   "metadata": {},
   "source": [
    "We can immediately call this function with any size we want and it will show us the length of the perimeter.\n",
    "\n",
    "```python\n",
    ">>> sq_perimeter_with_size(5)\n",
    "20\n",
    "\n",
    ">>> sq_perimeter_with_size(6)\n",
    "24\n",
    "\n",
    ">>> sq_perimeter_with_size(7)\n",
    "28\n",
    "\n",
    ">>> sq_perimeter_with_size(8)\n",
    "32\n",
    "```"
   ]
  },
  {
   "cell_type": "markdown",
   "metadata": {},
   "source": [
    "### Arguments for a triangle function"
   ]
  },
  {
   "cell_type": "markdown",
   "metadata": {},
   "source": [
    "Similarly, let's define a function that takes an **argument** that points to the length of a side of a triangle.\n",
    "\n",
    "```python\n",
    "def tri_perimeter_with_size(side):\n",
    "    perimeter = side * 3\n",
    "    print(perimeter)\n",
    "```    "
   ]
  },
  {
   "cell_type": "markdown",
   "metadata": {},
   "source": [
    "We can immediately call this function with any size we want and it will show us the length of the perimeter for a triangle.\n",
    "\n",
    "```python\n",
    ">>> tri_perimeter_with_size(10)\n",
    "30\n",
    "\n",
    ">>> tri_perimeter_with_size(11)\n",
    "33\n",
    "\n",
    ">>> tri_perimeter_with_size(12)\n",
    "36\n",
    "```"
   ]
  },
  {
   "cell_type": "markdown",
   "metadata": {},
   "source": [
    "### Multiple arguments for a perimeter function"
   ]
  },
  {
   "cell_type": "markdown",
   "metadata": {},
   "source": [
    "Now, let's define a function that takes **more than one argument** and enables us to quickly change both the length of the side **and** the number of sides.\n",
    "\n",
    "```python\n",
    "def perimeter(side, num_of_sides):\n",
    "    perimeter = side * num_of_sides\n",
    "    print(perimeter)\n",
    "```    "
   ]
  },
  {
   "cell_type": "markdown",
   "metadata": {},
   "source": [
    "We can immediately call this `perimeter` function with any size we want **and** any number of sides and it will show us the perimeter.\n",
    "\n",
    "```python\n",
    ">>> perimeter(10, 3)\n",
    "30\n",
    "\n",
    ">>> perimeter(10, 4)\n",
    "40\n",
    "\n",
    ">>> perimeter(11, 4)\n",
    "44\n",
    "```"
   ]
  },
  {
   "cell_type": "markdown",
   "metadata": {},
   "source": [
    "### Default arguments for a perimeter function"
   ]
  },
  {
   "cell_type": "markdown",
   "metadata": {},
   "source": [
    "Now, let's define a function that takes **more than one argument** and enables us to quickly change:\n",
    "\n",
    "* the length of the side \n",
    "* the number of sides \n",
    "* a name for the shape (including a default name if we don't know it)\n",
    "\n",
    "```python\n",
    "def named_perimeter(side, num_of_sides, name='unknown'):\n",
    "    perimeter = side * num_of_sides\n",
    "    print(name, perimeter)\n",
    "```    \n",
    "\n",
    "NOTE:\n",
    "\n",
    "* we added a new argument variable, called `name` and used the assignment symbol (`=`) to assign the value `unknown` to this variable. This value is set as the default and will be used anytime we don't provide a value of our own.\n"
   ]
  },
  {
   "cell_type": "markdown",
   "metadata": {},
   "source": [
    "This time we will call the function both with and without a value for `name`:\n",
    "\n",
    "```python\n",
    ">>> named_perimeter(10, 4) \n",
    "unknown 40\n",
    "\n",
    ">>> named_perimeter(10, 4, name='square')\n",
    "square 40\n",
    "\n",
    ">>> named_perimeter(10, 3, name='triangle')\n",
    "triangle 30\n",
    "\n",
    ">>> named_perimeter(10, 5, 'pentagon') \n",
    "pentagon 50\n",
    "```\n",
    "\n",
    "NOTE: \n",
    "\n",
    "* In our first example, we skipped the name variable and Python used the default value of `unknown`\n",
    "* In the second and third examples, we used the `name` variable and assignment symbol (or operator) to clearly show that we were assigning a new value to the `name` variable\n",
    "* In the last example, we show that it is not necessary to use the `name` variable... Python is smart enough to know that the third value should be applied to the name variable, just as it applies the first and second values to side and num_of_sides.\n"
   ]
  },
  {
   "cell_type": "markdown",
   "metadata": {},
   "source": [
    "## Get data **from** your function\n",
    "---"
   ]
  },
  {
   "cell_type": "markdown",
   "metadata": {},
   "source": [
    "While it is fun to put values into a function, it is often useful to get values back so that you can use those values elsewhere in your script.\n",
    "\n",
    "NOTE: \n",
    "* don't mistake what `print()` did in our previous examples as getting a value back. `print()` simply displayed values on the screen. It didn't allow us to capture the values and then reuse them elsewhere."
   ]
  },
  {
   "cell_type": "markdown",
   "metadata": {},
   "source": [
    "### `return` statements"
   ]
  },
  {
   "cell_type": "markdown",
   "metadata": {},
   "source": [
    "In this example, we will reuse our perimeter function (with minor changes):\n",
    "\n",
    "```python\n",
    "def perimeter(side, num_of_sides):\n",
    "    perimeter = side * num_of_sides\n",
    "    return perimeter\n",
    "```        \n",
    "    \n",
    "NOTE:\n",
    "* we replaced the `print()` function with a `return` statement\n",
    "    "
   ]
  },
  {
   "cell_type": "markdown",
   "metadata": {},
   "source": [
    "By using a return statement, we cause the function to give you back a value, which you can then use in any way you see fit, if you capture that value using a variable.\n",
    "\n",
    "For example, if we want to calculate the perimeter of three shapes, we can now do that:\n",
    "\n",
    "```python\n",
    ">>> triangle = perimeter(10, 3)\n",
    "\n",
    ">>> square = perimeter(10, 4)\n",
    "\n",
    ">>> pentagon = perimeter(10, 5)\n",
    "\n",
    ">>> print(triangle)\n",
    "30\n",
    "\n",
    ">>> total = triangle + square + pentagon\n",
    "\n",
    ">>> print(total)\n",
    "120\n",
    "\n",
    "```\n",
    "\n",
    "NOTE: \n",
    "* we can still print a value calculated by the `perimeter()` function as we did with `triangle`\n",
    "* but we can also save it for use in an equation, as we did with `total`\n"
   ]
  },
  {
   "cell_type": "markdown",
   "metadata": {},
   "source": [
    "# Flow control\n",
    "---"
   ]
  },
  {
   "cell_type": "markdown",
   "metadata": {},
   "source": [
    "Flow control allows you to choose how your script should behave.\n",
    "\n",
    "We will look at several uses of flow control:"
   ]
  },
  {
   "cell_type": "markdown",
   "metadata": {},
   "source": [
    "## `if`, `elif` and `else` statements \n",
    "---"
   ]
  },
  {
   "cell_type": "markdown",
   "metadata": {},
   "source": [
    "## `for` loops \n",
    "---"
   ]
  },
  {
   "cell_type": "markdown",
   "metadata": {},
   "source": [
    "## `while` loops \n",
    "---"
   ]
  },
  {
   "cell_type": "code",
   "execution_count": null,
   "metadata": {
    "collapsed": true
   },
   "outputs": [],
   "source": []
  }
 ],
 "metadata": {
  "anaconda-cloud": {},
  "kernelspec": {
   "display_name": "Python [default]",
   "language": "python",
   "name": "python3"
  },
  "language_info": {
   "codemirror_mode": {
    "name": "ipython",
    "version": 3
   },
   "file_extension": ".py",
   "mimetype": "text/x-python",
   "name": "python",
   "nbconvert_exporter": "python",
   "pygments_lexer": "ipython3",
   "version": "3.5.3"
  }
 },
 "nbformat": 4,
 "nbformat_minor": 2
}
