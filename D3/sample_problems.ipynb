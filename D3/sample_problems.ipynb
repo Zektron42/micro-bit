{
 "cells": [
  {
   "cell_type": "markdown",
   "metadata": {},
   "source": [
    "# Functions\n",
    "---"
   ]
  },
  {
   "cell_type": "markdown",
   "metadata": {},
   "source": [
    "## Create a function with the following characteristics:\n",
    "\n",
    "1. Name the function: `myprinter`\n",
    "1. For this exercise, don't worry about accepting arguments, just include your name and age in the body of the function\n",
    "    1. Have the function print your name \n",
    "    1. Have the function print your age\n",
    "1. Test the function, by calling it"
   ]
  },
  {
   "cell_type": "markdown",
   "metadata": {},
   "source": [
    "## Create a function with the following characteristics:\n",
    "\n",
    "1. Name the function: `mysport`\n",
    "1. Have the function accept one argument: `fav_sport`\n",
    "1. Have the function print your favorite sport\n",
    "1. Test the function, by calling it, with an argument"
   ]
  },
  {
   "cell_type": "markdown",
   "metadata": {},
   "source": [
    "## Create a function with the following characteristics:\n",
    "\n",
    "1. Name the function: `myfavorites`\n",
    "1. Have the function accept two arguments: `fav_food` & `fav_animal`\n",
    "    1. Have the function print your favorite food\n",
    "    1. Have the function print your favorite animal\n",
    "1. Test the function, by calling it, with two arguments"
   ]
  },
  {
   "cell_type": "markdown",
   "metadata": {},
   "source": [
    "## Create a function with the following characteristics:\n",
    "\n",
    "1. Name the function: `defaultfavorites`\n",
    "1. Have the function accept two arguments: `fav_food` & `fav_animal`\n",
    "1. Assign a default value for favorite animal of 'raccoon'\n",
    "1. Have the function print your favorite food and your favorite animal\n",
    "1. Test the function, by calling it, both with and without an argument for the favorite animal"
   ]
  },
  {
   "cell_type": "markdown",
   "metadata": {},
   "source": [
    "# `if / elif / else`\n",
    "---"
   ]
  },
  {
   "cell_type": "markdown",
   "metadata": {},
   "source": [
    "## Create an `if` statement\n",
    "\n",
    "Your `if` statement should test to see if a variable is equal to a specific value\n",
    "\n",
    "1. Create a variable called `name` and assign it to a string of your name\n",
    "1. Use an `if` statement to test whether `name` is equal to a string of your name\n",
    "    * IF they are equal, print: **\"the name variable is equal to the string\"**\n",
    "1. Use an `if` statement to test whether `name` is equal to a string that is NOT your name\n",
    "    * IF they are unequal, print: **\"the name variable did not equal the string\"**\n"
   ]
  },
  {
   "cell_type": "markdown",
   "metadata": {},
   "source": [
    "# `for` loops\n",
    "---"
   ]
  },
  {
   "cell_type": "markdown",
   "metadata": {},
   "source": [
    "## Create a `for` loop"
   ]
  },
  {
   "cell_type": "markdown",
   "metadata": {},
   "source": [
    "Your `for` loop should do the following:\n",
    "    \n",
    "* use each item in a `list` of 10 integers (i.e. [1, 13, 42, 2001, ...])\n",
    "* multiply each item by 10 and save that value as a separate variable called `multiple`\n",
    "* print both the value of each item and the value of multiple\n",
    "    "
   ]
  },
  {
   "cell_type": "markdown",
   "metadata": {},
   "source": [
    "Your `for` loop should do the following:\n",
    "    \n",
    "* use each item in a `list` of 10 strings (i.e. ['a', 'b', 'd', 'x', ...])\n",
    "* display.show() each item on the micro:bit screen\n"
   ]
  },
  {
   "cell_type": "markdown",
   "metadata": {},
   "source": [
    "# `while` loops\n",
    "---"
   ]
  },
  {
   "cell_type": "markdown",
   "metadata": {},
   "source": [
    "## Create a `while` loop"
   ]
  },
  {
   "cell_type": "markdown",
   "metadata": {},
   "source": [
    "Your `while` loop should do the following:\n",
    "    \n",
    "* Use the `True` keyword so that the loop runs forever (or is told to stop)\n",
    "* `print()` the micro:bit's temperature\n",
    "* check to see if `button_a` was pressed\n",
    "    * if `button_a` was pressed:\n",
    "        * display.show() the letter 'X'\n",
    "        * break out of the while loop\n"
   ]
  },
  {
   "cell_type": "code",
   "execution_count": null,
   "metadata": {
    "collapsed": true
   },
   "outputs": [],
   "source": []
  }
 ],
 "metadata": {
  "anaconda-cloud": {},
  "kernelspec": {
   "display_name": "Python [conda env:misc]",
   "language": "python",
   "name": "conda-env-misc-py"
  },
  "language_info": {
   "codemirror_mode": {
    "name": "ipython",
    "version": 3
   },
   "file_extension": ".py",
   "mimetype": "text/x-python",
   "name": "python",
   "nbconvert_exporter": "python",
   "pygments_lexer": "ipython3",
   "version": "3.5.3"
  }
 },
 "nbformat": 4,
 "nbformat_minor": 1
}
